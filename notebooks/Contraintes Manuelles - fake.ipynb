{
 "cells": [
  {
   "cell_type": "code",
   "execution_count": null,
   "metadata": {},
   "outputs": [],
   "source": [
    "import angr\n",
    "import binascii\n",
    "\n",
    "p = angr.Project(\"../bin/fake\", auto_load_libs=False)"
   ]
  },
  {
   "cell_type": "code",
   "execution_count": null,
   "metadata": {},
   "outputs": [],
   "source": [
    "state = p.factory.blank_state(addr=0x4004AC)\n",
    "inp = state.solver.BVS('inp', 8*8)\n",
    "state.regs.rax = inp\n",
    "\n",
    "simgr= p.factory.simulation_manager(state)\n",
    "simgr.explore(find=0x400684)\n",
    "found = simgr.found[0]"
   ]
  },
  {
   "cell_type": "markdown",
   "metadata": {},
   "source": [
    "On sait que le flag match `ASIS\\{[0-9a-f]{32}\\}`"
   ]
  },
  {
   "cell_type": "code",
   "execution_count": null,
   "metadata": {},
   "outputs": [],
   "source": [
    "flag_addr = found.regs.rdi\n",
    "\n",
    "# Le préfix\n",
    "found.add_constraints(\n",
    "    found.memory.load(flag_addr, 5) == int(binascii.hexlify(b\"ASIS{\"), 16)\n",
    ")\n",
    "\n",
    "# Le flag\n",
    "flag = found.memory.load(flag_addr, 40)\n",
    "for i in range(5, 5+32):\n",
    "    cond_0 = flag.get_byte(i) >= ord('0')\n",
    "    cond_1 = flag.get_byte(i) <= ord('9')\n",
    "    cond_2 = flag.get_byte(i) >= ord('a')\n",
    "    cond_3 = flag.get_byte(i) <= ord('f')\n",
    "    cond_4 = found.solver.And(cond_0, cond_1)\n",
    "    cond_5 = found.solver.And(cond_2, cond_3)\n",
    "    found.add_constraints(found.solver.Or(cond_4, cond_5))\n",
    "\n",
    "# Le suffix\n",
    "found.add_constraints(flag.get_byte(32+5) == ord('}'))"
   ]
  },
  {
   "cell_type": "code",
   "execution_count": null,
   "metadata": {},
   "outputs": [],
   "source": [
    "flag_str = found.solver.eval(flag, cast_to=bytes)\n",
    "print(\"The number to input: \", found.solver.eval(inp))\n",
    "print(\"Flag:\", flag)\n",
    "print(\"Flag String:\", flag_str)"
   ]
  }
 ],
 "metadata": {
  "kernelspec": {
   "display_name": "Python 3",
   "language": "python",
   "name": "python3"
  },
  "language_info": {
   "codemirror_mode": {
    "name": "ipython",
    "version": 3
   },
   "file_extension": ".py",
   "mimetype": "text/x-python",
   "name": "python",
   "nbconvert_exporter": "python",
   "pygments_lexer": "ipython3",
   "version": "3.7.5"
  }
 },
 "nbformat": 4,
 "nbformat_minor": 4
}
